{
 "cells": [
  {
   "cell_type": "markdown",
   "metadata": {},
   "source": [
    "## Guided Project: Explore U.S. Births\n",
    "\n",
    "The dataset contains the following columns:\n",
    "\n",
    "+ year: Year (1994 to 2003).\n",
    "+ month: Month (1 to 12).\n",
    "+ date_of_month: Day number of the month (1 to 31).\n",
    "+ day_of_week: Day of week (1 to 7).\n",
    "+ births: Number of births that day."
   ]
  },
  {
   "cell_type": "markdown",
   "metadata": {},
   "source": [
    "Create `read_csv` to read in a csv file and;\n",
    "+ remove header row\n",
    "+ convert string fields to ints\n",
    "+ return list of lists where each list is a row"
   ]
  },
  {
   "cell_type": "code",
   "execution_count": 7,
   "metadata": {
    "collapsed": false
   },
   "outputs": [
    {
     "data": {
      "text/plain": [
       "[[1994, 1, 1, 6, 8096],\n",
       " [1994, 1, 2, 7, 7772],\n",
       " [1994, 1, 3, 1, 10142],\n",
       " [1994, 1, 4, 2, 11248],\n",
       " [1994, 1, 5, 3, 11053],\n",
       " [1994, 1, 6, 4, 11406],\n",
       " [1994, 1, 7, 5, 11251],\n",
       " [1994, 1, 8, 6, 8653],\n",
       " [1994, 1, 9, 7, 7910],\n",
       " [1994, 1, 10, 1, 10498]]"
      ]
     },
     "execution_count": 7,
     "metadata": {},
     "output_type": "execute_result"
    }
   ],
   "source": [
    "def read_csv(file):\n",
    "    data = open(file).read()\n",
    "    string_list = data.split(\"\\n\")\n",
    "    final_list = []\n",
    "    for row in string_list[1:]:\n",
    "        string_fields = row.split(\",\")\n",
    "        int_fields=[]\n",
    "        for char in string_fields:\n",
    "            int_fields.append(int(char))\n",
    "        final_list.append(int_fields)\n",
    "    return final_list\n",
    "\n",
    "cdc_list  = read_csv(\"US_births_1994-2003_CDC_NCHS.csv\")\n",
    "cdc_list[:10]"
   ]
  },
  {
   "cell_type": "markdown",
   "metadata": {},
   "source": [
    "Create `month_births` to return a dictionary of the total monthly births in the dataset. The 1-12 notiation used in the data set is not as clear as using the abbreviated month names, so we will format the dictionary to use those instead. "
   ]
  },
  {
   "cell_type": "code",
   "execution_count": 21,
   "metadata": {
    "collapsed": false
   },
   "outputs": [
    {
     "data": {
      "text/plain": [
       "{'Apr': 3185314,\n",
       " 'Aug': 3525858,\n",
       " 'Dec': 3301860,\n",
       " 'Feb': 3018140,\n",
       " 'Jan': 3232517,\n",
       " 'Jul': 3498783,\n",
       " 'Jun': 3296530,\n",
       " 'Mar': 3322069,\n",
       " 'May': 3350907,\n",
       " 'Nov': 3171647,\n",
       " 'Oct': 3378814,\n",
       " 'Sep': 3439698}"
      ]
     },
     "execution_count": 21,
     "metadata": {},
     "output_type": "execute_result"
    }
   ],
   "source": [
    "def month_births(birthData):\n",
    "    month_dict = {}\n",
    "    births_per_month = {}\n",
    "    #months are 1-12, so we need a filler string\n",
    "    #at the 0 index of our list\n",
    "    month_list = [\"\", \"Jan\", \"Feb\", \"Mar\", \"Apr\", \"May\", \n",
    "                  \"Jun\", \"Jul\", \"Aug\", \"Sep\", \"Oct\", \"Nov\", \"Dec\"]\n",
    "    for num in range(1,13):\n",
    "        month_dict[num] = month_list[num]\n",
    "    for row in birthData:\n",
    "        month = month_dict[int(row[1])]\n",
    "        births = int(row[4])\n",
    "        if month not in births_per_month:\n",
    "            births_per_month[month] = births\n",
    "        else:\n",
    "            births_per_month[month] += births\n",
    "    return births_per_month\n",
    "\n",
    "cdc_month_births = month_births(cdc_list)\n",
    "cdc_month_births"
   ]
  },
  {
   "cell_type": "markdown",
   "metadata": {},
   "source": [
    "Create `dow_births` to return a dictionary of the total number of births on each day of the week. The 1-7 notiation used in the data set is not as clear as using the abbreviated day names, so we will format the dictionary to use those instead. "
   ]
  },
  {
   "cell_type": "code",
   "execution_count": 22,
   "metadata": {
    "collapsed": false
   },
   "outputs": [
    {
     "data": {
      "text/plain": [
       "{'Fri': 10218,\n",
       " 'Mon': 12823,\n",
       " 'Sat': 8646,\n",
       " 'Sun': 7645,\n",
       " 'Thu': 6628,\n",
       " 'Tue': 14438,\n",
       " 'Wed': 12374}"
      ]
     },
     "execution_count": 22,
     "metadata": {},
     "output_type": "execute_result"
    }
   ],
   "source": [
    "def dow_births(birthData):\n",
    "    day_dict = {}\n",
    "    births_per_dow = {}\n",
    "    #days are 1-7, so we need a filler string\n",
    "    #at the 0 index of our list\n",
    "    day_list = [\"\",\"Mon\", \"Tue\", \"Wed\", \"Thu\", \"Fri\", \"Sat\", \"Sun\"]\n",
    "    for num in range(1,8):\n",
    "        day_dict[num] = day_list[num]\n",
    "    for row in birthData:\n",
    "        day = day_dict[int(row[3])]\n",
    "        births = int(row[4])\n",
    "        if day not in day_dict:\n",
    "            births_per_dow[day] = births\n",
    "        else:\n",
    "            births_per_dow[day] += births\n",
    "    return births_per_dow\n",
    "\n",
    "cdc_day_births = dow_births(cdc_list)\n",
    "cdc_day_births"
   ]
  },
  {
   "cell_type": "code",
   "execution_count": 11,
   "metadata": {
    "collapsed": true
   },
   "outputs": [],
   "source": [
    "def month_dict():\n",
    "    month_dict = {}\n",
    "    month_list = [\"\", \"Jan\", \"Feb\", \"Mar\", \"Apr\", \"May\", \"Jun\", \"Jul\", \"Aug\", \"Sep\", \"Oct\", \"Nov\", \"Dec\"]\n",
    "    for num in range(1,13):\n",
    "        month_dict[num] = month_list[num]\n",
    "    return month_dict\n",
    "def day_dict():\n",
    "    day_dict = {}\n",
    "    day_list = [\"\",\"Mon\", \"Tue\", \"Wed\", \"Thu\", \"Fri\", \"Sat\", \"Sun\"]\n",
    "    for num in range(1,8):\n",
    "        day_dict[num] = day_list[num]\n",
    "    return day_dict"
   ]
  },
  {
   "cell_type": "markdown",
   "metadata": {},
   "source": [
    "Instead of creating a very similar function over and over again, we want to create a function that can return a dictionary of counts for any column in our data set. I built the month_dict and day_dict fucntion above to allow the formating used previously."
   ]
  },
  {
   "cell_type": "code",
   "execution_count": 26,
   "metadata": {
    "collapsed": false
   },
   "outputs": [],
   "source": [
    "def calc_counts(birthData, col):\n",
    "    counts_dict = {}\n",
    "    if col == 1:\n",
    "        monthDict = month_dict()\n",
    "        for row in birthData:\n",
    "            month = monthDict[row[col]]\n",
    "            births = row[4]\n",
    "            if month not in counts_dict:\n",
    "                counts_dict[month] = births\n",
    "            else:\n",
    "                counts_dict[month] += births\n",
    "    elif col == 3:\n",
    "        dowDict = day_dict()\n",
    "        for row in birthData:\n",
    "            day = dowDict[row[col]]\n",
    "            births = row[4]\n",
    "            if day not in counts_dict:\n",
    "                counts_dict[day] = births\n",
    "            else:\n",
    "                counts_dict[day] += births\n",
    "    else:\n",
    "        for row in birthData:\n",
    "            key = row[col]\n",
    "            births = int(row[4])\n",
    "            if key not in counts_dict:\n",
    "                counts_dict[key] = births\n",
    "            else:\n",
    "                counts_dict[key] += births\n",
    "                \n",
    "    return counts_dict\n",
    "\n",
    "cdc_year_births = calc_counts(cdc_list, 0)\n",
    "cdc_month_births = calc_counts(cdc_list, 1)\n",
    "cdc_dom_births = calc_counts(cdc_list, 2)\n",
    "cdc_dow_births = calc_counts(cdc_list, 3)                "
   ]
  },
  {
   "cell_type": "code",
   "execution_count": 27,
   "metadata": {
    "collapsed": false
   },
   "outputs": [
    {
     "data": {
      "text/plain": [
       "{1994: 3952767,\n",
       " 1995: 3899589,\n",
       " 1996: 3891494,\n",
       " 1997: 3880894,\n",
       " 1998: 3941553,\n",
       " 1999: 3959417,\n",
       " 2000: 4058814,\n",
       " 2001: 4025933,\n",
       " 2002: 4021726,\n",
       " 2003: 4089950}"
      ]
     },
     "execution_count": 27,
     "metadata": {},
     "output_type": "execute_result"
    }
   ],
   "source": [
    "cdc_year_births "
   ]
  },
  {
   "cell_type": "code",
   "execution_count": 28,
   "metadata": {
    "collapsed": false
   },
   "outputs": [
    {
     "data": {
      "text/plain": [
       "{'Apr': 3185314,\n",
       " 'Aug': 3525858,\n",
       " 'Dec': 3301860,\n",
       " 'Feb': 3018140,\n",
       " 'Jan': 3232517,\n",
       " 'Jul': 3498783,\n",
       " 'Jun': 3296530,\n",
       " 'Mar': 3322069,\n",
       " 'May': 3350907,\n",
       " 'Nov': 3171647,\n",
       " 'Oct': 3378814,\n",
       " 'Sep': 3439698}"
      ]
     },
     "execution_count": 28,
     "metadata": {},
     "output_type": "execute_result"
    }
   ],
   "source": [
    "cdc_month_births"
   ]
  },
  {
   "cell_type": "code",
   "execution_count": 29,
   "metadata": {
    "collapsed": false
   },
   "outputs": [
    {
     "data": {
      "text/plain": [
       "{1: 1276557,\n",
       " 2: 1288739,\n",
       " 3: 1304499,\n",
       " 4: 1288154,\n",
       " 5: 1299953,\n",
       " 6: 1304474,\n",
       " 7: 1310459,\n",
       " 8: 1312297,\n",
       " 9: 1303292,\n",
       " 10: 1320764,\n",
       " 11: 1314361,\n",
       " 12: 1318437,\n",
       " 13: 1277684,\n",
       " 14: 1320153,\n",
       " 15: 1319171,\n",
       " 16: 1315192,\n",
       " 17: 1324953,\n",
       " 18: 1326855,\n",
       " 19: 1318727,\n",
       " 20: 1324821,\n",
       " 21: 1322897,\n",
       " 22: 1317381,\n",
       " 23: 1293290,\n",
       " 24: 1288083,\n",
       " 25: 1272116,\n",
       " 26: 1284796,\n",
       " 27: 1294395,\n",
       " 28: 1307685,\n",
       " 29: 1223161,\n",
       " 30: 1202095,\n",
       " 31: 746696}"
      ]
     },
     "execution_count": 29,
     "metadata": {},
     "output_type": "execute_result"
    }
   ],
   "source": [
    "cdc_dom_births"
   ]
  },
  {
   "cell_type": "code",
   "execution_count": 30,
   "metadata": {
    "collapsed": false
   },
   "outputs": [
    {
     "data": {
      "text/plain": [
       "{'Fri': 6233657,\n",
       " 'Mon': 5789166,\n",
       " 'Sat': 4562111,\n",
       " 'Sun': 4079723,\n",
       " 'Thu': 6288429,\n",
       " 'Tue': 6446196,\n",
       " 'Wed': 6322855}"
      ]
     },
     "execution_count": 30,
     "metadata": {},
     "output_type": "execute_result"
    }
   ],
   "source": [
    "cdc_dow_births"
   ]
  },
  {
   "cell_type": "markdown",
   "metadata": {},
   "source": [
    "Write a function that can calculate the min and max values for any dictionary that's passed in."
   ]
  },
  {
   "cell_type": "code",
   "execution_count": 31,
   "metadata": {
    "collapsed": false
   },
   "outputs": [
    {
     "data": {
      "text/plain": [
       "[(1997, 3880894), (2003, 4089950)]"
      ]
     },
     "execution_count": 31,
     "metadata": {},
     "output_type": "execute_result"
    }
   ],
   "source": [
    "def dictMax_Min(dictionary):\n",
    "    maxVal = 0\n",
    "    minVal = 10**100\n",
    "    maxKey = \"\"\n",
    "    minKey = \"\"\n",
    "    for key in dictionary:\n",
    "        if dictionary[key] > maxVal:\n",
    "            maxVal = dictionary[key]\n",
    "            maxKey = key\n",
    "        if dictionary[key] < minVal:\n",
    "            minVal = dictionary[key]\n",
    "            minKey = key\n",
    "    return [(minKey, minVal), (maxKey, maxVal)]\n",
    "\n",
    "dictMax_Min(cdc_year_births)        "
   ]
  },
  {
   "cell_type": "markdown",
   "metadata": {
    "collapsed": true
   },
   "source": [
    "Write a function that extracts the same values across years and calculates the differences between consecutive values to show if number of births is increasing or decreasing.\n",
    "\n",
    "+ For example, how did the number of births on Saturday change each year between 1994 and 2003?"
   ]
  },
  {
   "cell_type": "code",
   "execution_count": 36,
   "metadata": {
    "collapsed": false
   },
   "outputs": [],
   "source": [
    "from collections import defaultdict"
   ]
  },
  {
   "cell_type": "code",
   "execution_count": 96,
   "metadata": {
    "collapsed": true
   },
   "outputs": [],
   "source": [
    "def create_yearly_dict(birthData, col):\n",
    "    '''\n",
    "    Creates a dictionary of yearly values for each\n",
    "    time type from the indicated column\n",
    "    i.e col=1 results in the number of births in each month\n",
    "    grouped by year\n",
    "    '''\n",
    "    year_dict = defaultdict(dict)\n",
    "    for row in birthData:\n",
    "            year = row[0]\n",
    "            year_dict[year]\n",
    "            key = row[col]\n",
    "            births = row[4]\n",
    "            if key in year_dict[year]:\n",
    "                year_dict[year][key] += births\n",
    "            else:\n",
    "                year_dict[year][key] = births\n",
    "    return year_dict\n",
    "\n",
    "def yearly_change(birthData, col, interest):\n",
    "    '''\n",
    "    Finds the change from year to year of the indicated interest time\n",
    "    i.e if col=1 and interest=3, this returns the difference in total\n",
    "    births for March of each year\n",
    "    '''\n",
    "    year_dict = create_yearly_dict(birthData, col)\n",
    "    years = sorted(year_dict.keys())\n",
    "    yearly_change = defaultdict(int)\n",
    "    for i in range(len(years)):\n",
    "        if years[i] == 1994:\n",
    "            pass\n",
    "        else:\n",
    "            change =  year_dict[years[i]][1]-year_dict[years[i-1]][1]\n",
    "            yearly_change[years[i]] = change\n",
    "    return yearly_change"
   ]
  },
  {
   "cell_type": "code",
   "execution_count": 108,
   "metadata": {
    "collapsed": false
   },
   "outputs": [],
   "source": [
    "march_births_change = yearly_change(cdc_list, 1, 3)"
   ]
  },
  {
   "cell_type": "code",
   "execution_count": 109,
   "metadata": {
    "collapsed": false
   },
   "outputs": [
    {
     "data": {
      "text/plain": [
       "defaultdict(int,\n",
       "            {1995: -4692,\n",
       "             1996: -1730,\n",
       "             1997: 2928,\n",
       "             1998: 2129,\n",
       "             1999: -158,\n",
       "             2000: 10926,\n",
       "             2001: 5090,\n",
       "             2002: -4524,\n",
       "             2003: -871})"
      ]
     },
     "execution_count": 109,
     "metadata": {},
     "output_type": "execute_result"
    }
   ],
   "source": [
    "march_births_change"
   ]
  },
  {
   "cell_type": "code",
   "execution_count": null,
   "metadata": {
    "collapsed": true
   },
   "outputs": [],
   "source": []
  }
 ],
 "metadata": {
  "anaconda-cloud": {},
  "kernelspec": {
   "display_name": "Python 3",
   "language": "python",
   "name": "python3"
  },
  "language_info": {
   "codemirror_mode": {
    "name": "ipython",
    "version": 3
   },
   "file_extension": ".py",
   "mimetype": "text/x-python",
   "name": "python",
   "nbconvert_exporter": "python",
   "pygments_lexer": "ipython3",
   "version": "3.4.3"
  }
 },
 "nbformat": 4,
 "nbformat_minor": 1
}
